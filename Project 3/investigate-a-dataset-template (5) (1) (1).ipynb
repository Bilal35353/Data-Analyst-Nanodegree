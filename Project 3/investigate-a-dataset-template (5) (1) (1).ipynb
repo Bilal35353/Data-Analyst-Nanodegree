{
 "cells": [
  {
   "cell_type": "markdown",
   "metadata": {},
   "source": [
    "> **Welcome to the Investigate **\n",
    "\n",
    "# Project: TMDB Movie Data\n",
    "\n",
    "## Table of Contents\n",
    "<ul>\n",
    "<li><a href=\"#intro\">Introduction</a></li>\n",
    "<li><a href=\"#wrangling\">Data Wrangling</a></li>\n",
    "<li><a href=\"#eda\">Exploratory Data Analysis</a></li>\n",
    "<li><a href=\"#conclusions\">Conclusions</a></li>\n",
    "</ul>"
   ]
  },
  {
   "cell_type": "markdown",
   "metadata": {},
   "source": [
    "<a id='intro'></a>\n",
    "## Introduction\n",
    "\n",
    "> **Main Ideas**: The data here provided as part of the Udacity Data Analysis Nanodegree and originated from Kaggle. It was originally sourced from IMDB but was replaced after takedown request.\n",
    "\n",
    "It contains information about movies including homepage , ratings , budget , and revenue. \n",
    "\n",
    "Depending on my experience as accountant ,  I interested to ask questions related financials to interpret specific ideas about profit , budget .\n",
    "\n",
    "> Questions posed about profit :\n",
    "\n",
    "- Question 1 :what's the average Profit over the year(s)?\n",
    "\n",
    "- Question 2 : Which release month profited the most over the years?\n",
    "\n",
    "- Question 3 : What's the relation between Popularity and Profits?\n",
    "  \n",
    "\n",
    "> Questions posed about budget:\n",
    "\n",
    "- Question 1 : Which movies got the cheapest budget?\n",
    "\n",
    "- Question 2 : Which movies got the biggest budget?\n",
    "\n",
    "- Question 3 : What's the relation between rating and budget?\n"
   ]
  },
  {
   "cell_type": "code",
   "execution_count": 1,
   "metadata": {},
   "outputs": [],
   "source": [
    "# Import the packages planed to use.\n",
    "import pandas as pd\n",
    "import matplotlib as plt\n",
    "% matplotlib inline\n",
    "import numpy as np\n",
    "import matplotlib.pyplot as plt\n",
    "import seaborn as sns\n"
   ]
  },
  {
   "cell_type": "markdown",
   "metadata": {},
   "source": [
    "<a id='wrangling'></a>\n",
    "## Data Wrangling\n",
    "\n",
    "**Main Ideas**: In this section of the report, we load in the data, check for cleanliness, and then trim and clean your dataset for analysis.\n",
    "\n",
    "### General Properties"
   ]
  },
  {
   "cell_type": "code",
   "execution_count": 2,
   "metadata": {},
   "outputs": [
    {
     "data": {
      "text/html": [
       "<div>\n",
       "<style scoped>\n",
       "    .dataframe tbody tr th:only-of-type {\n",
       "        vertical-align: middle;\n",
       "    }\n",
       "\n",
       "    .dataframe tbody tr th {\n",
       "        vertical-align: top;\n",
       "    }\n",
       "\n",
       "    .dataframe thead th {\n",
       "        text-align: right;\n",
       "    }\n",
       "</style>\n",
       "<table border=\"1\" class=\"dataframe\">\n",
       "  <thead>\n",
       "    <tr style=\"text-align: right;\">\n",
       "      <th></th>\n",
       "      <th>id</th>\n",
       "      <th>imdb_id</th>\n",
       "      <th>popularity</th>\n",
       "      <th>budget</th>\n",
       "      <th>revenue</th>\n",
       "      <th>original_title</th>\n",
       "      <th>cast</th>\n",
       "      <th>homepage</th>\n",
       "      <th>director</th>\n",
       "      <th>tagline</th>\n",
       "      <th>...</th>\n",
       "      <th>overview</th>\n",
       "      <th>runtime</th>\n",
       "      <th>genres</th>\n",
       "      <th>production_companies</th>\n",
       "      <th>release_date</th>\n",
       "      <th>vote_count</th>\n",
       "      <th>vote_average</th>\n",
       "      <th>release_year</th>\n",
       "      <th>budget_adj</th>\n",
       "      <th>revenue_adj</th>\n",
       "    </tr>\n",
       "  </thead>\n",
       "  <tbody>\n",
       "    <tr>\n",
       "      <th>0</th>\n",
       "      <td>135397</td>\n",
       "      <td>tt0369610</td>\n",
       "      <td>32.985763</td>\n",
       "      <td>150000000</td>\n",
       "      <td>1513528810</td>\n",
       "      <td>Jurassic World</td>\n",
       "      <td>Chris Pratt|Bryce Dallas Howard|Irrfan Khan|Vi...</td>\n",
       "      <td>http://www.jurassicworld.com/</td>\n",
       "      <td>Colin Trevorrow</td>\n",
       "      <td>The park is open.</td>\n",
       "      <td>...</td>\n",
       "      <td>Twenty-two years after the events of Jurassic ...</td>\n",
       "      <td>124</td>\n",
       "      <td>Action|Adventure|Science Fiction|Thriller</td>\n",
       "      <td>Universal Studios|Amblin Entertainment|Legenda...</td>\n",
       "      <td>6/9/2015</td>\n",
       "      <td>5562</td>\n",
       "      <td>6.5</td>\n",
       "      <td>2015</td>\n",
       "      <td>137999939.3</td>\n",
       "      <td>1.392446e+09</td>\n",
       "    </tr>\n",
       "    <tr>\n",
       "      <th>1</th>\n",
       "      <td>76341</td>\n",
       "      <td>tt1392190</td>\n",
       "      <td>28.419936</td>\n",
       "      <td>150000000</td>\n",
       "      <td>378436354</td>\n",
       "      <td>Mad Max: Fury Road</td>\n",
       "      <td>Tom Hardy|Charlize Theron|Hugh Keays-Byrne|Nic...</td>\n",
       "      <td>http://www.madmaxmovie.com/</td>\n",
       "      <td>George Miller</td>\n",
       "      <td>What a Lovely Day.</td>\n",
       "      <td>...</td>\n",
       "      <td>An apocalyptic story set in the furthest reach...</td>\n",
       "      <td>120</td>\n",
       "      <td>Action|Adventure|Science Fiction|Thriller</td>\n",
       "      <td>Village Roadshow Pictures|Kennedy Miller Produ...</td>\n",
       "      <td>5/13/2015</td>\n",
       "      <td>6185</td>\n",
       "      <td>7.1</td>\n",
       "      <td>2015</td>\n",
       "      <td>137999939.3</td>\n",
       "      <td>3.481613e+08</td>\n",
       "    </tr>\n",
       "    <tr>\n",
       "      <th>2</th>\n",
       "      <td>262500</td>\n",
       "      <td>tt2908446</td>\n",
       "      <td>13.112507</td>\n",
       "      <td>110000000</td>\n",
       "      <td>295238201</td>\n",
       "      <td>Insurgent</td>\n",
       "      <td>Shailene Woodley|Theo James|Kate Winslet|Ansel...</td>\n",
       "      <td>http://www.thedivergentseries.movie/#insurgent</td>\n",
       "      <td>Robert Schwentke</td>\n",
       "      <td>One Choice Can Destroy You</td>\n",
       "      <td>...</td>\n",
       "      <td>Beatrice Prior must confront her inner demons ...</td>\n",
       "      <td>119</td>\n",
       "      <td>Adventure|Science Fiction|Thriller</td>\n",
       "      <td>Summit Entertainment|Mandeville Films|Red Wago...</td>\n",
       "      <td>3/18/2015</td>\n",
       "      <td>2480</td>\n",
       "      <td>6.3</td>\n",
       "      <td>2015</td>\n",
       "      <td>101199955.5</td>\n",
       "      <td>2.716190e+08</td>\n",
       "    </tr>\n",
       "    <tr>\n",
       "      <th>3</th>\n",
       "      <td>140607</td>\n",
       "      <td>tt2488496</td>\n",
       "      <td>11.173104</td>\n",
       "      <td>200000000</td>\n",
       "      <td>2068178225</td>\n",
       "      <td>Star Wars: The Force Awakens</td>\n",
       "      <td>Harrison Ford|Mark Hamill|Carrie Fisher|Adam D...</td>\n",
       "      <td>http://www.starwars.com/films/star-wars-episod...</td>\n",
       "      <td>J.J. Abrams</td>\n",
       "      <td>Every generation has a story.</td>\n",
       "      <td>...</td>\n",
       "      <td>Thirty years after defeating the Galactic Empi...</td>\n",
       "      <td>136</td>\n",
       "      <td>Action|Adventure|Science Fiction|Fantasy</td>\n",
       "      <td>Lucasfilm|Truenorth Productions|Bad Robot</td>\n",
       "      <td>12/15/2015</td>\n",
       "      <td>5292</td>\n",
       "      <td>7.5</td>\n",
       "      <td>2015</td>\n",
       "      <td>183999919.0</td>\n",
       "      <td>1.902723e+09</td>\n",
       "    </tr>\n",
       "    <tr>\n",
       "      <th>4</th>\n",
       "      <td>168259</td>\n",
       "      <td>tt2820852</td>\n",
       "      <td>9.335014</td>\n",
       "      <td>190000000</td>\n",
       "      <td>1506249360</td>\n",
       "      <td>Furious 7</td>\n",
       "      <td>Vin Diesel|Paul Walker|Jason Statham|Michelle ...</td>\n",
       "      <td>http://www.furious7.com/</td>\n",
       "      <td>James Wan</td>\n",
       "      <td>Vengeance Hits Home</td>\n",
       "      <td>...</td>\n",
       "      <td>Deckard Shaw seeks revenge against Dominic Tor...</td>\n",
       "      <td>137</td>\n",
       "      <td>Action|Crime|Thriller</td>\n",
       "      <td>Universal Pictures|Original Film|Media Rights ...</td>\n",
       "      <td>4/1/2015</td>\n",
       "      <td>2947</td>\n",
       "      <td>7.3</td>\n",
       "      <td>2015</td>\n",
       "      <td>174799923.1</td>\n",
       "      <td>1.385749e+09</td>\n",
       "    </tr>\n",
       "  </tbody>\n",
       "</table>\n",
       "<p>5 rows × 21 columns</p>\n",
       "</div>"
      ],
      "text/plain": [
       "       id    imdb_id  popularity     budget     revenue  \\\n",
       "0  135397  tt0369610   32.985763  150000000  1513528810   \n",
       "1   76341  tt1392190   28.419936  150000000   378436354   \n",
       "2  262500  tt2908446   13.112507  110000000   295238201   \n",
       "3  140607  tt2488496   11.173104  200000000  2068178225   \n",
       "4  168259  tt2820852    9.335014  190000000  1506249360   \n",
       "\n",
       "                 original_title  \\\n",
       "0                Jurassic World   \n",
       "1            Mad Max: Fury Road   \n",
       "2                     Insurgent   \n",
       "3  Star Wars: The Force Awakens   \n",
       "4                     Furious 7   \n",
       "\n",
       "                                                cast  \\\n",
       "0  Chris Pratt|Bryce Dallas Howard|Irrfan Khan|Vi...   \n",
       "1  Tom Hardy|Charlize Theron|Hugh Keays-Byrne|Nic...   \n",
       "2  Shailene Woodley|Theo James|Kate Winslet|Ansel...   \n",
       "3  Harrison Ford|Mark Hamill|Carrie Fisher|Adam D...   \n",
       "4  Vin Diesel|Paul Walker|Jason Statham|Michelle ...   \n",
       "\n",
       "                                            homepage          director  \\\n",
       "0                      http://www.jurassicworld.com/   Colin Trevorrow   \n",
       "1                        http://www.madmaxmovie.com/     George Miller   \n",
       "2     http://www.thedivergentseries.movie/#insurgent  Robert Schwentke   \n",
       "3  http://www.starwars.com/films/star-wars-episod...       J.J. Abrams   \n",
       "4                           http://www.furious7.com/         James Wan   \n",
       "\n",
       "                         tagline      ...       \\\n",
       "0              The park is open.      ...        \n",
       "1             What a Lovely Day.      ...        \n",
       "2     One Choice Can Destroy You      ...        \n",
       "3  Every generation has a story.      ...        \n",
       "4            Vengeance Hits Home      ...        \n",
       "\n",
       "                                            overview runtime  \\\n",
       "0  Twenty-two years after the events of Jurassic ...     124   \n",
       "1  An apocalyptic story set in the furthest reach...     120   \n",
       "2  Beatrice Prior must confront her inner demons ...     119   \n",
       "3  Thirty years after defeating the Galactic Empi...     136   \n",
       "4  Deckard Shaw seeks revenge against Dominic Tor...     137   \n",
       "\n",
       "                                      genres  \\\n",
       "0  Action|Adventure|Science Fiction|Thriller   \n",
       "1  Action|Adventure|Science Fiction|Thriller   \n",
       "2         Adventure|Science Fiction|Thriller   \n",
       "3   Action|Adventure|Science Fiction|Fantasy   \n",
       "4                      Action|Crime|Thriller   \n",
       "\n",
       "                                production_companies release_date vote_count  \\\n",
       "0  Universal Studios|Amblin Entertainment|Legenda...     6/9/2015       5562   \n",
       "1  Village Roadshow Pictures|Kennedy Miller Produ...    5/13/2015       6185   \n",
       "2  Summit Entertainment|Mandeville Films|Red Wago...    3/18/2015       2480   \n",
       "3          Lucasfilm|Truenorth Productions|Bad Robot   12/15/2015       5292   \n",
       "4  Universal Pictures|Original Film|Media Rights ...     4/1/2015       2947   \n",
       "\n",
       "   vote_average  release_year   budget_adj   revenue_adj  \n",
       "0           6.5          2015  137999939.3  1.392446e+09  \n",
       "1           7.1          2015  137999939.3  3.481613e+08  \n",
       "2           6.3          2015  101199955.5  2.716190e+08  \n",
       "3           7.5          2015  183999919.0  1.902723e+09  \n",
       "4           7.3          2015  174799923.1  1.385749e+09  \n",
       "\n",
       "[5 rows x 21 columns]"
      ]
     },
     "execution_count": 2,
     "metadata": {},
     "output_type": "execute_result"
    }
   ],
   "source": [
    "# Load your data and print out a few lines. Perform operations to inspect data\n",
    "#   types and look for instances of missing or possibly errant data.\n",
    "\n",
    "df = pd.read_csv(r'C:\\Users\\USER\\tmdb-movies.csv')\n",
    "df.head(5)"
   ]
  },
  {
   "cell_type": "code",
   "execution_count": 3,
   "metadata": {},
   "outputs": [
    {
     "name": "stdout",
     "output_type": "stream",
     "text": [
      "<class 'pandas.core.frame.DataFrame'>\n",
      "RangeIndex: 10866 entries, 0 to 10865\n",
      "Data columns (total 21 columns):\n",
      "id                      10866 non-null int64\n",
      "imdb_id                 10856 non-null object\n",
      "popularity              10866 non-null float64\n",
      "budget                  10866 non-null int64\n",
      "revenue                 10866 non-null int64\n",
      "original_title          10866 non-null object\n",
      "cast                    10790 non-null object\n",
      "homepage                2936 non-null object\n",
      "director                10822 non-null object\n",
      "tagline                 8042 non-null object\n",
      "keywords                9373 non-null object\n",
      "overview                10862 non-null object\n",
      "runtime                 10866 non-null int64\n",
      "genres                  10843 non-null object\n",
      "production_companies    9836 non-null object\n",
      "release_date            10866 non-null object\n",
      "vote_count              10866 non-null int64\n",
      "vote_average            10866 non-null float64\n",
      "release_year            10866 non-null int64\n",
      "budget_adj              10866 non-null float64\n",
      "revenue_adj             10866 non-null float64\n",
      "dtypes: float64(4), int64(6), object(11)\n",
      "memory usage: 1.7+ MB\n"
     ]
    }
   ],
   "source": [
    "df.info()"
   ]
  },
  {
   "cell_type": "markdown",
   "metadata": {},
   "source": [
    "**Main Ideas** : from Seeing dataset( Total Rows = 10866 , Total Columns = 21 )\n",
    "\n",
    "we notice that some columns contain null values"
   ]
  },
  {
   "cell_type": "markdown",
   "metadata": {},
   "source": [
    "### The Cleaning Process\n",
    "\n",
    "- Remove non-commercial movies .\n",
    "- I remove the columns (id, imdb_id,tagline, budget, homepage, revenue, keywords and overview) to improve database performance \n",
    "- Make some data converstion on the columns data type \n",
    "- Remove douplicated records \n",
    "\n"
   ]
  },
  {
   "cell_type": "code",
   "execution_count": 4,
   "metadata": {},
   "outputs": [],
   "source": [
    "#Remove non-commercial movies\n",
    "df = df.query('budget_adj> 0 & revenue_adj>0 & runtime>0 & vote_count > 100')"
   ]
  },
  {
   "cell_type": "code",
   "execution_count": 5,
   "metadata": {},
   "outputs": [],
   "source": [
    "#remove the columns (id, imdb_id,tagline, budget, homepage, revenue, keywords and overview)\n",
    "\n",
    "col_names=['id', 'imdb_id', 'budget', 'revenue', 'homepage', 'tagline', 'keywords', 'overview']\n",
    "\n",
    "df.drop(col_names, axis=1, inplace=True)"
   ]
  },
  {
   "cell_type": "code",
   "execution_count": 6,
   "metadata": {},
   "outputs": [],
   "source": [
    "#Make some data converstion on the columns data type by convert\n",
    "# release_date to date\n",
    "df.release_date = pd.to_datetime(df['release_date']) \n",
    "\n",
    "# float to int\n",
    "df.budget_adj = df.budget_adj.astype(int)\n",
    "df.revenue_adj = df.revenue_adj.astype(int)"
   ]
  },
  {
   "cell_type": "code",
   "execution_count": 7,
   "metadata": {},
   "outputs": [
    {
     "name": "stdout",
     "output_type": "stream",
     "text": [
      "<class 'pandas.core.frame.DataFrame'>\n",
      "Int64Index: 2603 entries, 0 to 10770\n",
      "Data columns (total 13 columns):\n",
      "popularity              2603 non-null float64\n",
      "original_title          2603 non-null object\n",
      "cast                    2603 non-null object\n",
      "director                2603 non-null object\n",
      "runtime                 2603 non-null int64\n",
      "genres                  2603 non-null object\n",
      "production_companies    2601 non-null object\n",
      "release_date            2603 non-null datetime64[ns]\n",
      "vote_count              2603 non-null int64\n",
      "vote_average            2603 non-null float64\n",
      "release_year            2603 non-null int64\n",
      "budget_adj              2603 non-null int32\n",
      "revenue_adj             2603 non-null int32\n",
      "dtypes: datetime64[ns](1), float64(2), int32(2), int64(3), object(5)\n",
      "memory usage: 264.4+ KB\n"
     ]
    }
   ],
   "source": [
    "# remove duplicates\n",
    "df.drop_duplicates(inplace = True)\n",
    "\n",
    "df.info()"
   ]
  },
  {
   "cell_type": "code",
   "execution_count": 8,
   "metadata": {},
   "outputs": [],
   "source": [
    "# have to add new 3 columns for profit , release_day and release_month\n",
    "df.insert(13,'profit',df['revenue_adj']-df['budget_adj'])\n",
    "df.insert(14,'release_day',df['release_date'].dt.day_name())\n",
    "df.insert(15,'release_month',df['release_date'].dt.month)"
   ]
  },
  {
   "cell_type": "code",
   "execution_count": 9,
   "metadata": {},
   "outputs": [
    {
     "name": "stdout",
     "output_type": "stream",
     "text": [
      "<class 'pandas.core.frame.DataFrame'>\n",
      "Int64Index: 2603 entries, 0 to 10770\n",
      "Data columns (total 16 columns):\n",
      "popularity              2603 non-null float64\n",
      "original_title          2603 non-null object\n",
      "cast                    2603 non-null object\n",
      "director                2603 non-null object\n",
      "runtime                 2603 non-null int64\n",
      "genres                  2603 non-null object\n",
      "production_companies    2601 non-null object\n",
      "release_date            2603 non-null datetime64[ns]\n",
      "vote_count              2603 non-null int64\n",
      "vote_average            2603 non-null float64\n",
      "release_year            2603 non-null int64\n",
      "budget_adj              2603 non-null int32\n",
      "revenue_adj             2603 non-null int32\n",
      "profit                  2603 non-null int32\n",
      "release_day             2603 non-null object\n",
      "release_month           2603 non-null int64\n",
      "dtypes: datetime64[ns](1), float64(2), int32(3), int64(4), object(6)\n",
      "memory usage: 315.2+ KB\n"
     ]
    }
   ],
   "source": [
    "df.info()"
   ]
  },
  {
   "cell_type": "code",
   "execution_count": 10,
   "metadata": {},
   "outputs": [
    {
     "data": {
      "text/html": [
       "<div>\n",
       "<style scoped>\n",
       "    .dataframe tbody tr th:only-of-type {\n",
       "        vertical-align: middle;\n",
       "    }\n",
       "\n",
       "    .dataframe tbody tr th {\n",
       "        vertical-align: top;\n",
       "    }\n",
       "\n",
       "    .dataframe thead th {\n",
       "        text-align: right;\n",
       "    }\n",
       "</style>\n",
       "<table border=\"1\" class=\"dataframe\">\n",
       "  <thead>\n",
       "    <tr style=\"text-align: right;\">\n",
       "      <th></th>\n",
       "      <th>popularity</th>\n",
       "      <th>runtime</th>\n",
       "      <th>vote_count</th>\n",
       "      <th>vote_average</th>\n",
       "      <th>release_year</th>\n",
       "      <th>budget_adj</th>\n",
       "      <th>revenue_adj</th>\n",
       "      <th>profit</th>\n",
       "      <th>release_month</th>\n",
       "    </tr>\n",
       "  </thead>\n",
       "  <tbody>\n",
       "    <tr>\n",
       "      <th>count</th>\n",
       "      <td>2603.000000</td>\n",
       "      <td>2603.000000</td>\n",
       "      <td>2603.000000</td>\n",
       "      <td>2603.000000</td>\n",
       "      <td>2603.000000</td>\n",
       "      <td>2.603000e+03</td>\n",
       "      <td>2.603000e+03</td>\n",
       "      <td>2.603000e+03</td>\n",
       "      <td>2603.000000</td>\n",
       "    </tr>\n",
       "    <tr>\n",
       "      <th>mean</th>\n",
       "      <td>1.564910</td>\n",
       "      <td>110.844794</td>\n",
       "      <td>758.845947</td>\n",
       "      <td>6.316980</td>\n",
       "      <td>2003.030734</td>\n",
       "      <td>5.391081e+07</td>\n",
       "      <td>1.794910e+08</td>\n",
       "      <td>1.321802e+08</td>\n",
       "      <td>7.145601</td>\n",
       "    </tr>\n",
       "    <tr>\n",
       "      <th>std</th>\n",
       "      <td>1.663758</td>\n",
       "      <td>19.710699</td>\n",
       "      <td>990.783437</td>\n",
       "      <td>0.750216</td>\n",
       "      <td>10.642134</td>\n",
       "      <td>4.832556e+07</td>\n",
       "      <td>2.437059e+08</td>\n",
       "      <td>2.156822e+08</td>\n",
       "      <td>3.317657</td>\n",
       "    </tr>\n",
       "    <tr>\n",
       "      <th>min</th>\n",
       "      <td>0.040858</td>\n",
       "      <td>42.000000</td>\n",
       "      <td>101.000000</td>\n",
       "      <td>3.300000</td>\n",
       "      <td>1960.000000</td>\n",
       "      <td>5.000000e+01</td>\n",
       "      <td>-2.147484e+09</td>\n",
       "      <td>-1.551102e+08</td>\n",
       "      <td>1.000000</td>\n",
       "    </tr>\n",
       "    <tr>\n",
       "      <th>25%</th>\n",
       "      <td>0.760320</td>\n",
       "      <td>97.000000</td>\n",
       "      <td>198.000000</td>\n",
       "      <td>5.800000</td>\n",
       "      <td>1998.000000</td>\n",
       "      <td>1.938796e+07</td>\n",
       "      <td>4.253991e+07</td>\n",
       "      <td>1.149812e+07</td>\n",
       "      <td>5.000000</td>\n",
       "    </tr>\n",
       "    <tr>\n",
       "      <th>50%</th>\n",
       "      <td>1.114239</td>\n",
       "      <td>107.000000</td>\n",
       "      <td>389.000000</td>\n",
       "      <td>6.300000</td>\n",
       "      <td>2006.000000</td>\n",
       "      <td>3.841392e+07</td>\n",
       "      <td>1.031422e+08</td>\n",
       "      <td>6.097874e+07</td>\n",
       "      <td>7.000000</td>\n",
       "    </tr>\n",
       "    <tr>\n",
       "      <th>75%</th>\n",
       "      <td>1.789044</td>\n",
       "      <td>121.000000</td>\n",
       "      <td>852.500000</td>\n",
       "      <td>6.900000</td>\n",
       "      <td>2011.000000</td>\n",
       "      <td>7.503437e+07</td>\n",
       "      <td>2.289346e+08</td>\n",
       "      <td>1.591088e+08</td>\n",
       "      <td>10.000000</td>\n",
       "    </tr>\n",
       "    <tr>\n",
       "      <th>max</th>\n",
       "      <td>32.985763</td>\n",
       "      <td>216.000000</td>\n",
       "      <td>9767.000000</td>\n",
       "      <td>8.400000</td>\n",
       "      <td>2015.000000</td>\n",
       "      <td>3.683713e+08</td>\n",
       "      <td>1.907006e+09</td>\n",
       "      <td>2.108194e+09</td>\n",
       "      <td>12.000000</td>\n",
       "    </tr>\n",
       "  </tbody>\n",
       "</table>\n",
       "</div>"
      ],
      "text/plain": [
       "        popularity      runtime   vote_count  vote_average  release_year  \\\n",
       "count  2603.000000  2603.000000  2603.000000   2603.000000   2603.000000   \n",
       "mean      1.564910   110.844794   758.845947      6.316980   2003.030734   \n",
       "std       1.663758    19.710699   990.783437      0.750216     10.642134   \n",
       "min       0.040858    42.000000   101.000000      3.300000   1960.000000   \n",
       "25%       0.760320    97.000000   198.000000      5.800000   1998.000000   \n",
       "50%       1.114239   107.000000   389.000000      6.300000   2006.000000   \n",
       "75%       1.789044   121.000000   852.500000      6.900000   2011.000000   \n",
       "max      32.985763   216.000000  9767.000000      8.400000   2015.000000   \n",
       "\n",
       "         budget_adj   revenue_adj        profit  release_month  \n",
       "count  2.603000e+03  2.603000e+03  2.603000e+03    2603.000000  \n",
       "mean   5.391081e+07  1.794910e+08  1.321802e+08       7.145601  \n",
       "std    4.832556e+07  2.437059e+08  2.156822e+08       3.317657  \n",
       "min    5.000000e+01 -2.147484e+09 -1.551102e+08       1.000000  \n",
       "25%    1.938796e+07  4.253991e+07  1.149812e+07       5.000000  \n",
       "50%    3.841392e+07  1.031422e+08  6.097874e+07       7.000000  \n",
       "75%    7.503437e+07  2.289346e+08  1.591088e+08      10.000000  \n",
       "max    3.683713e+08  1.907006e+09  2.108194e+09      12.000000  "
      ]
     },
     "execution_count": 10,
     "metadata": {},
     "output_type": "execute_result"
    }
   ],
   "source": [
    "df.describe()"
   ]
  },
  {
   "cell_type": "markdown",
   "metadata": {},
   "source": [
    "<a id='eda'></a>\n",
    "## Exploratory Data Analysis\n",
    "\n",
    ">After I've trimmed and cleaned my data, we're ready to move on to exploration by Compute statistics and create visualizations with the goal of addressing the research questions we posed in the Introduction section. \n",
    "\n",
    "\n",
    "## Research Questions About  Profit\n",
    "\n",
    "\n",
    "\n",
    "####  Question 1 : what's the average Profit over the year(s)?\n",
    "\n"
   ]
  },
  {
   "cell_type": "markdown",
   "metadata": {},
   "source": [
    "As usual for any accountant we need to know average Profit depending on years to compare and analyze our product or industry growth ,so i decided to get insight by using line chart."
   ]
  },
  {
   "cell_type": "code",
   "execution_count": 11,
   "metadata": {},
   "outputs": [
    {
     "data": {
      "image/png": "[encoded data removed]",
      "text/plain": [
       "<Figure size 1008x576 with 1 Axes>"
      ]
     },
     "metadata": {
      "needs_background": "light"
     },
     "output_type": "display_data"
    }
   ],
   "source": [
    "#average Profit over the year(s)?\n",
    "df.groupby('release_year')['profit'].mean().plot(kind = 'line', figsize = (14, 8), color = 'b')\n",
    "plt.title('Average Profit Trends over the year(s)', fontsize = 18)\n",
    "plt.xlabel('Year', fontsize = 14)\n",
    "plt.ylabel('Profit', fontsize = 14);"
   ]
  },
  {
   "cell_type": "markdown",
   "metadata": {},
   "source": [
    "\n",
    "We can notice from the line chart that average profit at top in 60s which might indicate few number of movies released at this time."
   ]
  },
  {
   "cell_type": "markdown",
   "metadata": {},
   "source": [
    "#### Question 2 : Which release month profited the most over the years?\n",
    "\n",
    "\n"
   ]
  },
  {
   "cell_type": "markdown",
   "metadata": {},
   "source": [
    "To be more specific about Profit growth analyze i thought i should got month profited the most over the years.This time i use the bar chart."
   ]
  },
  {
   "cell_type": "code",
   "execution_count": 12,
   "metadata": {},
   "outputs": [
    {
     "data": {
      "image/png": "[encoded data removed]",
      "text/plain": [
       "<Figure size 648x648 with 1 Axes>"
      ]
     },
     "metadata": {
      "needs_background": "light"
     },
     "output_type": "display_data"
    }
   ],
   "source": [
    "## specific Profit growth information using months\n",
    "profit_by_month = df.groupby('release_month')['profit'].sum()\n",
    "df1=pd.DataFrame()\n",
    "months=['Jan','Feb','Mar','Apr','May','Jun','Jul','Aug','Sep','Oct','Nov','Dec']\n",
    "df1['profits'] = list(profit_by_month.get_values())\n",
    "df1['Months']=months\n",
    "df1.plot(x='Months',y='profits',kind='bar',figsize=(9,9),color='B');\n",
    "plt.title('Total profit Per month(s)');\n",
    "plt.ylabel('Profit In billion(s))');\n"
   ]
  },
  {
   "cell_type": "markdown",
   "metadata": {},
   "source": [
    "Obviously the bar chart show that Jun and Dec are profited the most, i can interpret that most people go to cinema in holiday months, but we cannot confirm this point ."
   ]
  },
  {
   "cell_type": "markdown",
   "metadata": {},
   "source": [
    "\n",
    "####  Question 3 : What's the relation between Popularity and Profits?\n",
    "\n",
    "\n"
   ]
  },
  {
   "cell_type": "markdown",
   "metadata": {},
   "source": [
    "I always hear that Popularity got highest profits so i decided to analyze the relation between Popularity and Profits and test the assumptions on the data using scatter plot.\n"
   ]
  },
  {
   "cell_type": "code",
   "execution_count": 13,
   "metadata": {},
   "outputs": [
    {
     "data": {
      "image/png": "[encoded data removed]",
      "text/plain": [
       "<Figure size 432x288 with 1 Axes>"
      ]
     },
     "metadata": {
      "needs_background": "light"
     },
     "output_type": "display_data"
    }
   ],
   "source": [
    "# What's the relation between Popularity and Profits?\n",
    "plt.scatter(x=df['popularity'],y=df['profit'], color = 'b')\n",
    "plt.title('Relation between Popularity & Profits', fontsize = 14)\n",
    "plt.xlabel('Popularity', fontsize = 14)\n",
    "plt.ylabel('Profits', fontsize = 14);"
   ]
  },
  {
   "cell_type": "markdown",
   "metadata": {},
   "source": [
    "\n",
    "\n",
    "Now i got Strange result , As we can see from scatter plot Popular movies not necessary the highest profits "
   ]
  },
  {
   "cell_type": "markdown",
   "metadata": {},
   "source": [
    "\n",
    "##  Research Questions About  budget\n",
    "\n",
    "\n",
    ">All investers ask accountant about product or industry range budget to know if they can work with it or not .\n",
    "\n",
    "So my second group in this Research will be about budget by produce information for most &least expensive movies using viualization of histogram distribution.\n",
    "\n",
    "\n",
    "Also decided to analyze the relation between rating and budget to understand if rating effect on budget ."
   ]
  },
  {
   "cell_type": "markdown",
   "metadata": {},
   "source": [
    "####  Question 1 : Which movies got the biggest budget?\n"
   ]
  },
  {
   "cell_type": "markdown",
   "metadata": {},
   "source": [
    "Here I sorted movies by budget and get the 100 most expensive movies from our database"
   ]
  },
  {
   "cell_type": "code",
   "execution_count": 14,
   "metadata": {},
   "outputs": [],
   "source": [
    "# the 100 most expensive movies \n",
    "\n",
    "sorted_budget_biggest = df.sort_values(by=['budget_adj'], ascending = False).head(100)\n"
   ]
  },
  {
   "cell_type": "code",
   "execution_count": 15,
   "metadata": {},
   "outputs": [],
   "source": [
    "# create variable to Save our results in.....\n",
    "\n",
    "max_budget_vote = sorted_budget_biggest.groupby(['original_title'])['vote_average'].mean()"
   ]
  },
  {
   "cell_type": "markdown",
   "metadata": {},
   "source": [
    "Visualize result using histogram distribution."
   ]
  },
  {
   "cell_type": "code",
   "execution_count": 16,
   "metadata": {},
   "outputs": [
    {
     "data": {
      "text/plain": [
       "<matplotlib.axes._subplots.AxesSubplot at 0x1b5ba390828>"
      ]
     },
     "execution_count": 16,
     "metadata": {},
     "output_type": "execute_result"
    },
    {
     "data": {
      "image/png": "[encoded data removed]",
      "text/plain": [
       "<Figure size 432x288 with 1 Axes>"
      ]
     },
     "metadata": {
      "needs_background": "light"
     },
     "output_type": "display_data"
    }
   ],
   "source": [
    "# Create a plot to visualize the results\n",
    "plt.xlabel('Votes')\n",
    "plt.ylabel('Number of Movies')\n",
    "plt.title('Distribution Votes')\n",
    "max_budget_vote.hist(histtype = 'stepfilled', label = 'Rates for Most Expensive Movies')"
   ]
  },
  {
   "cell_type": "markdown",
   "metadata": {},
   "source": [
    "#### Research Question 2 :Which movies got the cheapest budget?\n",
    "\n",
    "Now I sorted movies by budget and get the 100 most cheapest movies from our database\n"
   ]
  },
  {
   "cell_type": "code",
   "execution_count": 17,
   "metadata": {},
   "outputs": [],
   "source": [
    "# the 100 cheapest movies \n",
    " \n",
    "sorted_budget_cheapest = df.sort_values(by=['budget_adj'], ascending = True).head(100)\n"
   ]
  },
  {
   "cell_type": "code",
   "execution_count": 18,
   "metadata": {},
   "outputs": [],
   "source": [
    "# create variable to Save result in\n",
    "\n",
    "cheapest_budget_vote = sorted_budget_cheapest.groupby('original_title')['vote_average'].mean()"
   ]
  },
  {
   "cell_type": "markdown",
   "metadata": {},
   "source": [
    "Visualize result using histogram distribution."
   ]
  },
  {
   "cell_type": "code",
   "execution_count": 19,
   "metadata": {},
   "outputs": [
    {
     "data": {
      "text/plain": [
       "<matplotlib.axes._subplots.AxesSubplot at 0x1b5ba3f2ef0>"
      ]
     },
     "execution_count": 19,
     "metadata": {},
     "output_type": "execute_result"
    },
    {
     "data": {
      "image/png": "[encoded data removed]",
      "text/plain": [
       "<Figure size 432x288 with 1 Axes>"
      ]
     },
     "metadata": {
      "needs_background": "light"
     },
     "output_type": "display_data"
    }
   ],
   "source": [
    "plt.xlabel('Votes')\n",
    "plt.ylabel('Number For Cheapest Movies')\n",
    "plt.title('Distribution Votes')\n",
    "\n",
    "cheapest_budget_vote.hist(label = 'Rates for Cheapest Movies')\n"
   ]
  },
  {
   "cell_type": "markdown",
   "metadata": {},
   "source": [
    "#### Research Question 3: What's the relation between rating and budget?\n"
   ]
  },
  {
   "cell_type": "markdown",
   "metadata": {},
   "source": [
    "Visualize Compared results in one diagram using histogram distribution so we can notice the effect for rating on budget.\n",
    "\n"
   ]
  },
  {
   "cell_type": "code",
   "execution_count": 20,
   "metadata": {},
   "outputs": [
    {
     "data": {
      "image/png": "[encoded data removed]",
      "text/plain": [
       "<Figure size 432x288 with 1 Axes>"
      ]
     },
     "metadata": {
      "needs_background": "light"
     },
     "output_type": "display_data"
    }
   ],
   "source": [
    "plt.hist(cheapest_budget_vote, alpha=0.8, label='Votes For Cheap Movies')\n",
    "plt.hist(max_budget_vote, alpha=0.8, label='Votes For Expensive Movies')\n",
    "plt.ylabel('Number of Movies')\n",
    "plt.title('Distribution of Votes')\n",
    "plt.legend(loc='upper right')\n",
    "plt.show()"
   ]
  },
  {
   "cell_type": "markdown",
   "metadata": {},
   "source": [
    "We can notice that most expensive movies generally got better rating than cheaper ones. \n",
    "\n",
    "Depending on diagram we can notice that expensive movies best rating is more than 8 while the best rating for cheapest movies is lower than 7.8."
   ]
  },
  {
   "cell_type": "markdown",
   "metadata": {
    "collapsed": true
   },
   "source": [
    "<a id='conclusions'></a>\n",
    "## Conclusions\n",
    "\n",
    "\n",
    "- We can say that movies industry growing every year depending on graph (Average Profit Trends over the year(s)) for first time we may think companies losing their money,but infact, this due to increase in number of produced movies for that the mean seems less than 60s and 70s.\n",
    "\n",
    "- We shouldnt depend on Popularity to produce more Profits as we can see that many of the most profited movies are not among the ranked popular. Popular mean is 1.564910.\n",
    "\n",
    "- We can recomended investors and producer to invest and release movies on Jun and Dec coz they might  get less number of released movies  which mean less competition and more money .\n",
    "\n",
    "- From analyzed ratings of the most and least expensive movies and I found out that the more expensive movies got higher votes than the cheaper ones .\n",
    "\n",
    "\n",
    "# Limitations: \n",
    "\n",
    "<br>I gess the main limitation for me was missing lot of values ,actually dataset given to me was 10886 rows in total, but when i cleaned a lot of missing values , dropped Rows with NaN values and remove non-commercial movies ,the cleaning data became 2608 rows which indicated losing round 8283 rows (76% of our data). \n",
    "\n",
    "So I can not say my analysis has 100% accuracy.\n"
   ]
  },
  {
   "cell_type": "code",
   "execution_count": 21,
   "metadata": {},
   "outputs": [
    {
     "data": {
      "text/plain": [
       "4294967295"
      ]
     },
     "execution_count": 21,
     "metadata": {},
     "output_type": "execute_result"
    }
   ],
   "source": [
    "from subprocess import call\n",
    "call(['python', '-m', 'nbconvert', 'Investigate_a_Dataset.ipynb'])"
   ]
  },
  {
   "cell_type": "code",
   "execution_count": null,
   "metadata": {},
   "outputs": [],
   "source": []
  }
 ],
 "metadata": {
  "kernelspec": {
   "display_name": "Python 3",
   "language": "python",
   "name": "python3"
  },
  "language_info": {
   "codemirror_mode": {
    "name": "ipython",
    "version": 3
   },
   "file_extension": ".py",
   "mimetype": "text/x-python",
   "name": "python",
   "nbconvert_exporter": "python",
   "pygments_lexer": "ipython3",
   "version": "3.7.0"
  }
 },
 "nbformat": 4,
 "nbformat_minor": 2
}
